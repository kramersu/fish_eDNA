{
 "cells": [
  {
   "cell_type": "code",
   "execution_count": null,
   "id": "2ea73b81",
   "metadata": {},
   "outputs": [],
   "source": [
    "#use classifer to assign taxonomy to 12S ASVs from 12S fish classifier https://github.com/terrimporter/12SfishClassifier/tree/v1.0.1\n",
    "rdp_classifier -Xmx10g classify -t 12S/mydata_trained/rRNAClassifier.properties -o 12S/RDP_12S.out 12S/ASV.fna#2958 ASVs assigned\n",
    "#2807 ASVs have assignment to Actinopteri with bootstrap value over 0.7, but all higher tax levels have support below 0.7"
   ]
  },
  {
   "cell_type": "code",
   "execution_count": null,
   "id": "902899c1",
   "metadata": {},
   "outputs": [],
   "source": [
    "#assign taxonomy with blast: download mito-all (partial and full fish mito sequences) from mito-fish (v3.91, 25-07-2023)\n",
    "#make blast db\n",
    "makeblastdb -in mito-all -dbtype nucl\n",
    "#blast\n",
    "blastn -db mito-all -query ASV.fna -word_size 11 -max_target_seqs 1 -outfmt 6 -evalue 1e04 -out mito-all_uniq_results.txt#also questionable. By far most things come back as catfish, but hits are short and id not super high"
   ]
  }
 ],
 "metadata": {
  "kernelspec": {
   "display_name": "Python 3 (ipykernel)",
   "language": "python",
   "name": "python3"
  },
  "language_info": {
   "codemirror_mode": {
    "name": "ipython",
    "version": 3
   },
   "file_extension": ".py",
   "mimetype": "text/x-python",
   "name": "python",
   "nbconvert_exporter": "python",
   "pygments_lexer": "ipython3",
   "version": "3.9.17"
  }
 },
 "nbformat": 4,
 "nbformat_minor": 5
}
