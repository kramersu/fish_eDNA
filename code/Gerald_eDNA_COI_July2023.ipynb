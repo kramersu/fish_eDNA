{
 "cells": [
  {
   "cell_type": "code",
   "execution_count": null,
   "id": "858e7b6b",
   "metadata": {},
   "outputs": [],
   "source": [
    "#Processing raw MiSeq reads:\n",
    "Primers used:\n",
    "FishCOI-PS1-F  \n",
    "CGTATTTGGYGCYTGRGCCGGRATAGT \n",
    "FishCOI-PS1-R \n",
    "CARAARCTYATRTTRTTYATTCG\n",
    "#Process with dada2 pipeline, script 01_dada2_processing_COI\n",
    "#In general, poor run quality: lots of reads (~90% per sample) are just primer dimers, after removal of singletons and doubletons 839 ASVs remain\n"
   ]
  },
  {
   "cell_type": "code",
   "execution_count": null,
   "id": "101eb8d1",
   "metadata": {},
   "outputs": [],
   "source": [
    "#Classify with RDP COI classifier v5.1.0\n",
    "rdp_classifier -Xmx10g classify -t RDP_COIv5.1.0/mydata/rRNAClassifier.properties -o RDP_COI.out ASV.fna\n",
    "#Filter output: Only retain phylum Actinopteri with at least 0.7 bootstrap support=> 10 ASVs remain\n",
    "#Double-check ASVs compared to Comprehensive list of Canadian Freshwater fishes (Myler MSC): 9 exists in Canada, exception Desert Sucker > COI_fish_tax.txt and filtered_ASV.txt"
   ]
  },
  {
   "cell_type": "code",
   "execution_count": null,
   "id": "1e516d3e",
   "metadata": {},
   "outputs": [],
   "source": [
    "#Assign taxonomy via blast to midori\n",
    "#remove spaces, commas, tabs from fasta headers\n",
    "sed -e 's/\\t/_/g' MIDORI2_UNIQ_SP_NUC_GB256_CO1_RAW3.fasta > MIDORI2_UNIQ_SP_NUC_GB256_CO1_RAW4.fasta\n",
    "#make blast db\n",
    "makeblastdb -in MIDORI2_UNIQ_SP_NUC_GB256_CO1_RAW4.fasta -dbtype nucl\n",
    "#blast\n",
    "blastn -db MIDORI2_UNIQ_SP_NUC_GB256_CO1_RAW4.fasta -query ASV.fna -word_size 11 -max_target_seqs 1 -outfmt 6 -evalue 1e04 -out Midori2_uniq_results.txt"
   ]
  },
  {
   "cell_type": "code",
   "execution_count": null,
   "id": "a82ff3b9",
   "metadata": {},
   "outputs": [],
   "source": [
    "#Extract relevant seqs with seqtk\n",
    "seqtk subseq ASV.fna filtered_ASV.list > filtered_ASV.fa"
   ]
  },
  {
   "cell_type": "code",
   "execution_count": null,
   "id": "93b79b2f",
   "metadata": {},
   "outputs": [],
   "source": [
    "# filter blast output\n",
    "awk -F \"\\t\" '{if($3>95) {print }}' Midori2_uniq_results.txt > Midori2_uniq_results_filtered.txt#533 ASVs remain, 268 are Actinopteri, but man of those are 100ID matches to tropical species etc.\n",
    "#solution: also filter by match length: most questionable matches are perfect, but only 20-30bp long, real matches are 199 bp: 10 ASV remain, identical to rdp matches"
   ]
  },
  {
   "cell_type": "code",
   "execution_count": null,
   "id": "dfd3c5f8",
   "metadata": {},
   "outputs": [],
   "source": [
    "#Extract relevant seqs with seqtk\n",
    "seqtk subseq ASV.fna filtered_ASV.list > filtered_ASV.fa"
   ]
  },
  {
   "cell_type": "code",
   "execution_count": null,
   "id": "a292b59d",
   "metadata": {},
   "outputs": [],
   "source": [
    "#Pseudogene filter\n",
    "java -jar ~/miniconda3/share/macse-2.07-0/macse_v2.07.jar -prog enrichAlignment -align ..//Midori_chordata.fa -gc_def 5 -maxSTOP_inSeq 0 -output_only_added_seq_ON -maxDEL_inSeq 5 -maxFS_inSeq 0 -maxINS_inSeq 0 -fixed_alignment_ON -out_AA MID_vert_full_align.faa -seq filtered_ASV.fa\n",
    "java -jar ~/miniconda3/share/macse-2.07-0/macse_v2.07.jar -prog enrichAlignment -align ..//Midori_invert.fa -gc_def 5 -maxSTOP_inSeq 0 -output_only_added_seq_ON -maxDEL_inSeq 5 -maxFS_inSeq 0 -maxINS_inSeq 0 -fixed_alignment_ON -out_AA MID_invert_full_align.faa -seq filtered_ASV.fa\n",
    "#weird: none of the good fish ASVs gets added to any alignment, and only a handful of ASVs that get added to the alignment from the full ASV files don't make a lot of sense (Bacteria, Antilope)"
   ]
  }
 ],
 "metadata": {
  "kernelspec": {
   "display_name": "Python 3 (ipykernel)",
   "language": "python",
   "name": "python3"
  },
  "language_info": {
   "codemirror_mode": {
    "name": "ipython",
    "version": 3
   },
   "file_extension": ".py",
   "mimetype": "text/x-python",
   "name": "python",
   "nbconvert_exporter": "python",
   "pygments_lexer": "ipython3",
   "version": "3.9.17"
  }
 },
 "nbformat": 4,
 "nbformat_minor": 5
}
